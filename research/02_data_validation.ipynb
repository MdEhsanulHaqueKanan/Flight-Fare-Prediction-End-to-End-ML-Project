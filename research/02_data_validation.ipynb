{
 "cells": [
  {
   "cell_type": "code",
   "execution_count": 1,
   "metadata": {},
   "outputs": [],
   "source": [
    "import os"
   ]
  },
  {
   "cell_type": "code",
   "execution_count": 2,
   "metadata": {},
   "outputs": [
    {
     "data": {
      "text/plain": [
       "'g:\\\\Machine_Learning_Projects\\\\iNeuron internship\\\\Flight-Fare-Prediction-End-to-End-ML-Project\\\\research'"
      ]
     },
     "execution_count": 2,
     "metadata": {},
     "output_type": "execute_result"
    }
   ],
   "source": [
    "%pwd"
   ]
  },
  {
   "cell_type": "code",
   "execution_count": 3,
   "metadata": {},
   "outputs": [],
   "source": [
    "os.chdir(\"../\")"
   ]
  },
  {
   "cell_type": "code",
   "execution_count": 4,
   "metadata": {},
   "outputs": [
    {
     "data": {
      "text/plain": [
       "'g:\\\\Machine_Learning_Projects\\\\iNeuron internship\\\\Flight-Fare-Prediction-End-to-End-ML-Project'"
      ]
     },
     "execution_count": 4,
     "metadata": {},
     "output_type": "execute_result"
    }
   ],
   "source": [
    "%pwd"
   ]
  },
  {
   "cell_type": "code",
   "execution_count": 8,
   "metadata": {},
   "outputs": [
    {
     "name": "stderr",
     "output_type": "stream",
     "text": [
      "WARNING: Ignoring invalid distribution -rotobuf (c:\\users\\2021\\appdata\\roaming\\python\\python38\\site-packages)\n",
      "WARNING: Ignoring invalid distribution -rotobuf (c:\\users\\2021\\appdata\\roaming\\python\\python38\\site-packages)\n",
      "WARNING: Ignoring invalid distribution -rotobuf (c:\\users\\2021\\appdata\\roaming\\python\\python38\\site-packages)\n",
      "ERROR: pip's dependency resolver does not currently take into account all the packages that are installed. This behaviour is the source of the following dependency conflicts.\n",
      "jax 0.4.10 requires scipy>=1.7, which is not installed.\n",
      "mlflow 2.2.2 requires scipy<2, which is not installed.\n",
      "scikit-learn 1.3.1 requires scipy>=1.5.0, which is not installed.\n",
      "shap 0.42.1 requires scipy, which is not installed.\n",
      "WARNING: Ignoring invalid distribution -rotobuf (c:\\users\\2021\\appdata\\roaming\\python\\python38\\site-packages)\n",
      "WARNING: Ignoring invalid distribution -rotobuf (c:\\users\\2021\\appdata\\roaming\\python\\python38\\site-packages)\n",
      "WARNING: Ignoring invalid distribution -rotobuf (c:\\users\\2021\\appdata\\roaming\\python\\python38\\site-packages)\n"
     ]
    },
    {
     "name": "stdout",
     "output_type": "stream",
     "text": [
      "Collecting numpy\n",
      "  Obtaining dependency information for numpy from https://files.pythonhosted.org/packages/69/65/0d47953afa0ad569d12de5f65d964321c208492064c38fe3b0b9744f8d44/numpy-1.24.4-cp38-cp38-win_amd64.whl.metadata\n",
      "  Downloading numpy-1.24.4-cp38-cp38-win_amd64.whl.metadata (5.6 kB)\n",
      "Downloading numpy-1.24.4-cp38-cp38-win_amd64.whl (14.9 MB)\n",
      "   ---------------------------------------- 0.0/14.9 MB ? eta -:--:--\n",
      "   ---------------------------------------- 0.0/14.9 MB ? eta -:--:--\n",
      "   ---------------------------------------- 0.0/14.9 MB ? eta -:--:--\n",
      "   ---------------------------------------- 0.0/14.9 MB 262.6 kB/s eta 0:00:57\n",
      "   ---------------------------------------- 0.1/14.9 MB 363.1 kB/s eta 0:00:41\n",
      "   ---------------------------------------- 0.1/14.9 MB 544.7 kB/s eta 0:00:28\n",
      "   ---------------------------------------- 0.2/14.9 MB 615.9 kB/s eta 0:00:24\n",
      "    --------------------------------------- 0.3/14.9 MB 842.9 kB/s eta 0:00:18\n",
      "   - -------------------------------------- 0.4/14.9 MB 1.1 MB/s eta 0:00:14\n",
      "   - -------------------------------------- 0.6/14.9 MB 1.4 MB/s eta 0:00:10\n",
      "   -- ------------------------------------- 0.8/14.9 MB 1.7 MB/s eta 0:00:09\n",
      "   -- ------------------------------------- 1.1/14.9 MB 2.0 MB/s eta 0:00:07\n",
      "   --- ------------------------------------ 1.3/14.9 MB 2.3 MB/s eta 0:00:06\n",
      "   ---- ----------------------------------- 1.6/14.9 MB 2.5 MB/s eta 0:00:06\n",
      "   ---- ----------------------------------- 1.8/14.9 MB 2.7 MB/s eta 0:00:05\n",
      "   ----- ---------------------------------- 2.0/14.9 MB 2.8 MB/s eta 0:00:05\n",
      "   ------ --------------------------------- 2.3/14.9 MB 3.0 MB/s eta 0:00:05\n",
      "   ------ --------------------------------- 2.5/14.9 MB 3.1 MB/s eta 0:00:04\n",
      "   ------ --------------------------------- 2.5/14.9 MB 3.1 MB/s eta 0:00:04\n",
      "   ------ --------------------------------- 2.5/14.9 MB 3.1 MB/s eta 0:00:04\n",
      "   ------- -------------------------------- 2.7/14.9 MB 2.8 MB/s eta 0:00:05\n",
      "   -------- ------------------------------- 3.1/14.9 MB 3.1 MB/s eta 0:00:04\n",
      "   --------- ------------------------------ 3.6/14.9 MB 3.4 MB/s eta 0:00:04\n",
      "   --------- ------------------------------ 3.7/14.9 MB 3.5 MB/s eta 0:00:04\n",
      "   --------- ------------------------------ 3.7/14.9 MB 3.5 MB/s eta 0:00:04\n",
      "   --------- ------------------------------ 3.7/14.9 MB 3.5 MB/s eta 0:00:04\n",
      "   ---------- ----------------------------- 3.9/14.9 MB 3.0 MB/s eta 0:00:04\n",
      "   ----------- ---------------------------- 4.3/14.9 MB 3.3 MB/s eta 0:00:04\n",
      "   ------------ --------------------------- 4.6/14.9 MB 3.4 MB/s eta 0:00:04\n",
      "   ------------- -------------------------- 5.0/14.9 MB 3.6 MB/s eta 0:00:03\n",
      "   ------------- -------------------------- 5.1/14.9 MB 3.6 MB/s eta 0:00:03\n",
      "   ------------- -------------------------- 5.1/14.9 MB 3.6 MB/s eta 0:00:03\n",
      "   ------------- -------------------------- 5.1/14.9 MB 3.3 MB/s eta 0:00:03\n",
      "   ------------- -------------------------- 5.1/14.9 MB 3.3 MB/s eta 0:00:03\n",
      "   -------------- ------------------------- 5.3/14.9 MB 3.2 MB/s eta 0:00:03\n",
      "   -------------- ------------------------- 5.3/14.9 MB 3.2 MB/s eta 0:00:03\n",
      "   -------------- ------------------------- 5.3/14.9 MB 3.0 MB/s eta 0:00:04\n",
      "   --------------- ------------------------ 5.9/14.9 MB 3.3 MB/s eta 0:00:03\n",
      "   --------------- ------------------------ 5.9/14.9 MB 3.3 MB/s eta 0:00:03\n",
      "   --------------- ------------------------ 5.9/14.9 MB 3.2 MB/s eta 0:00:03\n",
      "   --------------- ------------------------ 5.9/14.9 MB 3.2 MB/s eta 0:00:03\n",
      "   --------------- ------------------------ 5.9/14.9 MB 3.2 MB/s eta 0:00:03\n",
      "   --------------- ------------------------ 5.9/14.9 MB 3.2 MB/s eta 0:00:03\n",
      "   ---------------- ----------------------- 6.1/14.9 MB 2.9 MB/s eta 0:00:03\n",
      "   ---------------- ----------------------- 6.1/14.9 MB 2.9 MB/s eta 0:00:03\n",
      "   ---------------- ----------------------- 6.1/14.9 MB 2.9 MB/s eta 0:00:03\n",
      "   ---------------- ----------------------- 6.1/14.9 MB 2.9 MB/s eta 0:00:03\n",
      "   ---------------- ----------------------- 6.1/14.9 MB 2.9 MB/s eta 0:00:03\n",
      "   ------------------ --------------------- 6.7/14.9 MB 2.9 MB/s eta 0:00:03\n",
      "   ----------------------- ---------------- 8.6/14.9 MB 3.6 MB/s eta 0:00:02\n",
      "   ----------------------- ---------------- 8.8/14.9 MB 3.6 MB/s eta 0:00:02\n",
      "   ------------------------ --------------- 9.0/14.9 MB 3.5 MB/s eta 0:00:02\n",
      "   ------------------------ --------------- 9.2/14.9 MB 3.6 MB/s eta 0:00:02\n",
      "   ------------------------- -------------- 9.4/14.9 MB 3.5 MB/s eta 0:00:02\n",
      "   -------------------------- ------------- 9.7/14.9 MB 3.6 MB/s eta 0:00:02\n",
      "   -------------------------- ------------- 9.8/14.9 MB 3.6 MB/s eta 0:00:02\n",
      "   -------------------------- ------------- 10.0/14.9 MB 3.5 MB/s eta 0:00:02\n",
      "   --------------------------- ------------ 10.1/14.9 MB 3.5 MB/s eta 0:00:02\n",
      "   --------------------------- ------------ 10.3/14.9 MB 3.7 MB/s eta 0:00:02\n",
      "   ---------------------------- ----------- 10.5/14.9 MB 3.9 MB/s eta 0:00:02\n",
      "   ---------------------------- ----------- 10.7/14.9 MB 3.9 MB/s eta 0:00:02\n",
      "   ----------------------------- ---------- 10.9/14.9 MB 3.9 MB/s eta 0:00:02\n",
      "   ----------------------------- ---------- 11.1/14.9 MB 3.9 MB/s eta 0:00:01\n",
      "   ------------------------------ --------- 11.3/14.9 MB 3.8 MB/s eta 0:00:01\n",
      "   ------------------------------ --------- 11.5/14.9 MB 3.8 MB/s eta 0:00:01\n",
      "   ------------------------------- -------- 11.6/14.9 MB 3.7 MB/s eta 0:00:01\n",
      "   ------------------------------- -------- 11.8/14.9 MB 3.7 MB/s eta 0:00:01\n",
      "   -------------------------------- ------- 12.0/14.9 MB 3.7 MB/s eta 0:00:01\n",
      "   -------------------------------- ------- 12.2/14.9 MB 3.7 MB/s eta 0:00:01\n",
      "   --------------------------------- ------ 12.3/14.9 MB 3.7 MB/s eta 0:00:01\n",
      "   --------------------------------- ------ 12.5/14.9 MB 3.6 MB/s eta 0:00:01\n",
      "   ---------------------------------- ----- 12.6/14.9 MB 3.6 MB/s eta 0:00:01\n",
      "   ---------------------------------- ----- 12.8/14.9 MB 3.8 MB/s eta 0:00:01\n",
      "   ----------------------------------- ---- 13.0/14.9 MB 3.7 MB/s eta 0:00:01\n",
      "   ----------------------------------- ---- 13.2/14.9 MB 3.7 MB/s eta 0:00:01\n",
      "   ------------------------------------ --- 13.4/14.9 MB 3.6 MB/s eta 0:00:01\n",
      "   ------------------------------------ --- 13.6/14.9 MB 3.6 MB/s eta 0:00:01\n",
      "   ------------------------------------ --- 13.7/14.9 MB 3.5 MB/s eta 0:00:01\n",
      "   ------------------------------------- -- 13.9/14.9 MB 3.5 MB/s eta 0:00:01\n",
      "   ------------------------------------- -- 14.1/14.9 MB 3.7 MB/s eta 0:00:01\n",
      "   -------------------------------------- - 14.3/14.9 MB 3.6 MB/s eta 0:00:01\n",
      "   ---------------------------------------  14.5/14.9 MB 3.6 MB/s eta 0:00:01\n",
      "   ---------------------------------------  14.7/14.9 MB 3.6 MB/s eta 0:00:01\n",
      "   ---------------------------------------  14.8/14.9 MB 3.6 MB/s eta 0:00:01\n",
      "   ---------------------------------------  14.9/14.9 MB 3.5 MB/s eta 0:00:01\n",
      "   ---------------------------------------  14.9/14.9 MB 3.5 MB/s eta 0:00:01\n",
      "   ---------------------------------------  14.9/14.9 MB 3.5 MB/s eta 0:00:01\n",
      "   ---------------------------------------  14.9/14.9 MB 3.5 MB/s eta 0:00:01\n",
      "   ---------------------------------------  14.9/14.9 MB 3.5 MB/s eta 0:00:01\n",
      "   ---------------------------------------  14.9/14.9 MB 3.5 MB/s eta 0:00:01\n",
      "   ---------------------------------------  14.9/14.9 MB 3.5 MB/s eta 0:00:01\n",
      "   ---------------------------------------  14.9/14.9 MB 3.5 MB/s eta 0:00:01\n",
      "   ---------------------------------------  14.9/14.9 MB 3.5 MB/s eta 0:00:01\n",
      "   ---------------------------------------  14.9/14.9 MB 3.5 MB/s eta 0:00:01\n",
      "   ---------------------------------------  14.9/14.9 MB 3.5 MB/s eta 0:00:01\n",
      "   ---------------------------------------- 14.9/14.9 MB 2.9 MB/s eta 0:00:00\n",
      "Installing collected packages: numpy\n",
      "Successfully installed numpy-1.24.4\n"
     ]
    }
   ],
   "source": [
    "! pip install numpy\n",
    "import pandas as pd"
   ]
  },
  {
   "cell_type": "code",
   "execution_count": 9,
   "metadata": {},
   "outputs": [
    {
     "data": {
      "text/html": [
       "<div>\n",
       "<style scoped>\n",
       "    .dataframe tbody tr th:only-of-type {\n",
       "        vertical-align: middle;\n",
       "    }\n",
       "\n",
       "    .dataframe tbody tr th {\n",
       "        vertical-align: top;\n",
       "    }\n",
       "\n",
       "    .dataframe thead th {\n",
       "        text-align: right;\n",
       "    }\n",
       "</style>\n",
       "<table border=\"1\" class=\"dataframe\">\n",
       "  <thead>\n",
       "    <tr style=\"text-align: right;\">\n",
       "      <th></th>\n",
       "      <th>Airline</th>\n",
       "      <th>Date_of_Journey</th>\n",
       "      <th>Source</th>\n",
       "      <th>Destination</th>\n",
       "      <th>Route</th>\n",
       "      <th>Dep_Time</th>\n",
       "      <th>Arrival_Time</th>\n",
       "      <th>Duration</th>\n",
       "      <th>Total_Stops</th>\n",
       "      <th>Additional_Info</th>\n",
       "      <th>Price</th>\n",
       "    </tr>\n",
       "  </thead>\n",
       "  <tbody>\n",
       "    <tr>\n",
       "      <th>0</th>\n",
       "      <td>IndiGo</td>\n",
       "      <td>24/03/2019</td>\n",
       "      <td>Banglore</td>\n",
       "      <td>New Delhi</td>\n",
       "      <td>BLR → DEL</td>\n",
       "      <td>22:20</td>\n",
       "      <td>01:10 22 Mar</td>\n",
       "      <td>2h 50m</td>\n",
       "      <td>non-stop</td>\n",
       "      <td>No info</td>\n",
       "      <td>3897</td>\n",
       "    </tr>\n",
       "    <tr>\n",
       "      <th>1</th>\n",
       "      <td>Air India</td>\n",
       "      <td>1/05/2019</td>\n",
       "      <td>Kolkata</td>\n",
       "      <td>Banglore</td>\n",
       "      <td>CCU → IXR → BBI → BLR</td>\n",
       "      <td>05:50</td>\n",
       "      <td>13:15</td>\n",
       "      <td>7h 25m</td>\n",
       "      <td>2 stops</td>\n",
       "      <td>No info</td>\n",
       "      <td>7662</td>\n",
       "    </tr>\n",
       "    <tr>\n",
       "      <th>2</th>\n",
       "      <td>Jet Airways</td>\n",
       "      <td>9/06/2019</td>\n",
       "      <td>Delhi</td>\n",
       "      <td>Cochin</td>\n",
       "      <td>DEL → LKO → BOM → COK</td>\n",
       "      <td>09:25</td>\n",
       "      <td>04:25 10 Jun</td>\n",
       "      <td>19h</td>\n",
       "      <td>2 stops</td>\n",
       "      <td>No info</td>\n",
       "      <td>13882</td>\n",
       "    </tr>\n",
       "    <tr>\n",
       "      <th>3</th>\n",
       "      <td>IndiGo</td>\n",
       "      <td>12/05/2019</td>\n",
       "      <td>Kolkata</td>\n",
       "      <td>Banglore</td>\n",
       "      <td>CCU → NAG → BLR</td>\n",
       "      <td>18:05</td>\n",
       "      <td>23:30</td>\n",
       "      <td>5h 25m</td>\n",
       "      <td>1 stop</td>\n",
       "      <td>No info</td>\n",
       "      <td>6218</td>\n",
       "    </tr>\n",
       "    <tr>\n",
       "      <th>4</th>\n",
       "      <td>IndiGo</td>\n",
       "      <td>01/03/2019</td>\n",
       "      <td>Banglore</td>\n",
       "      <td>New Delhi</td>\n",
       "      <td>BLR → NAG → DEL</td>\n",
       "      <td>16:50</td>\n",
       "      <td>21:35</td>\n",
       "      <td>4h 45m</td>\n",
       "      <td>1 stop</td>\n",
       "      <td>No info</td>\n",
       "      <td>13302</td>\n",
       "    </tr>\n",
       "  </tbody>\n",
       "</table>\n",
       "</div>"
      ],
      "text/plain": [
       "       Airline Date_of_Journey    Source Destination                  Route  \\\n",
       "0       IndiGo      24/03/2019  Banglore   New Delhi              BLR → DEL   \n",
       "1    Air India       1/05/2019   Kolkata    Banglore  CCU → IXR → BBI → BLR   \n",
       "2  Jet Airways       9/06/2019     Delhi      Cochin  DEL → LKO → BOM → COK   \n",
       "3       IndiGo      12/05/2019   Kolkata    Banglore        CCU → NAG → BLR   \n",
       "4       IndiGo      01/03/2019  Banglore   New Delhi        BLR → NAG → DEL   \n",
       "\n",
       "  Dep_Time  Arrival_Time Duration Total_Stops Additional_Info  Price  \n",
       "0    22:20  01:10 22 Mar   2h 50m    non-stop         No info   3897  \n",
       "1    05:50         13:15   7h 25m     2 stops         No info   7662  \n",
       "2    09:25  04:25 10 Jun      19h     2 stops         No info  13882  \n",
       "3    18:05         23:30   5h 25m      1 stop         No info   6218  \n",
       "4    16:50         21:35   4h 45m      1 stop         No info  13302  "
      ]
     },
     "execution_count": 9,
     "metadata": {},
     "output_type": "execute_result"
    }
   ],
   "source": [
    "data = pd.read_excel(\"artifacts/data_ingestion/flightfare-data.xlsx\")\n",
    "data.head()"
   ]
  },
  {
   "cell_type": "code",
   "execution_count": 10,
   "metadata": {},
   "outputs": [
    {
     "name": "stdout",
     "output_type": "stream",
     "text": [
      "<class 'pandas.core.frame.DataFrame'>\n",
      "RangeIndex: 10683 entries, 0 to 10682\n",
      "Data columns (total 11 columns):\n",
      " #   Column           Non-Null Count  Dtype \n",
      "---  ------           --------------  ----- \n",
      " 0   Airline          10683 non-null  object\n",
      " 1   Date_of_Journey  10683 non-null  object\n",
      " 2   Source           10683 non-null  object\n",
      " 3   Destination      10683 non-null  object\n",
      " 4   Route            10682 non-null  object\n",
      " 5   Dep_Time         10683 non-null  object\n",
      " 6   Arrival_Time     10683 non-null  object\n",
      " 7   Duration         10683 non-null  object\n",
      " 8   Total_Stops      10682 non-null  object\n",
      " 9   Additional_Info  10683 non-null  object\n",
      " 10  Price            10683 non-null  int64 \n",
      "dtypes: int64(1), object(10)\n",
      "memory usage: 918.2+ KB\n"
     ]
    }
   ],
   "source": [
    "data.info()"
   ]
  },
  {
   "cell_type": "code",
   "execution_count": 11,
   "metadata": {},
   "outputs": [
    {
     "data": {
      "text/plain": [
       "Airline            0\n",
       "Date_of_Journey    0\n",
       "Source             0\n",
       "Destination        0\n",
       "Route              1\n",
       "Dep_Time           0\n",
       "Arrival_Time       0\n",
       "Duration           0\n",
       "Total_Stops        1\n",
       "Additional_Info    0\n",
       "Price              0\n",
       "dtype: int64"
      ]
     },
     "execution_count": 11,
     "metadata": {},
     "output_type": "execute_result"
    }
   ],
   "source": [
    "data.isnull().sum()"
   ]
  },
  {
   "cell_type": "code",
   "execution_count": 12,
   "metadata": {},
   "outputs": [
    {
     "data": {
      "text/plain": [
       "Airline            0\n",
       "Date_of_Journey    0\n",
       "Source             0\n",
       "Destination        0\n",
       "Route              0\n",
       "Dep_Time           0\n",
       "Arrival_Time       0\n",
       "Duration           0\n",
       "Total_Stops        0\n",
       "Additional_Info    0\n",
       "Price              0\n",
       "dtype: int64"
      ]
     },
     "execution_count": 12,
     "metadata": {},
     "output_type": "execute_result"
    }
   ],
   "source": [
    "#Route--> null values=1 and Total_Stops--> null values=1, so we can ignore them\n",
    "data.dropna(inplace=True)\n",
    "#now check again\n",
    "data.isnull().sum()"
   ]
  },
  {
   "cell_type": "code",
   "execution_count": 13,
   "metadata": {},
   "outputs": [
    {
     "data": {
      "text/plain": [
       "(10682, 11)"
      ]
     },
     "execution_count": 13,
     "metadata": {},
     "output_type": "execute_result"
    }
   ],
   "source": [
    "data.shape"
   ]
  },
  {
   "cell_type": "code",
   "execution_count": 14,
   "metadata": {},
   "outputs": [
    {
     "data": {
      "text/plain": [
       "Index(['Airline', 'Date_of_Journey', 'Source', 'Destination', 'Route',\n",
       "       'Dep_Time', 'Arrival_Time', 'Duration', 'Total_Stops',\n",
       "       'Additional_Info', 'Price'],\n",
       "      dtype='object')"
      ]
     },
     "execution_count": 14,
     "metadata": {},
     "output_type": "execute_result"
    }
   ],
   "source": [
    "data.columns"
   ]
  },
  {
   "cell_type": "code",
   "execution_count": 15,
   "metadata": {},
   "outputs": [],
   "source": [
    "from dataclasses import dataclass\n",
    "from pathlib import Path\n",
    "\n",
    "\n",
    "@dataclass(frozen=True)\n",
    "class DataValidationConfig:\n",
    "    root_dir: Path\n",
    "    STATUS_FILE: str\n",
    "    unzip_data_dir: Path\n",
    "    all_schema: dict"
   ]
  },
  {
   "cell_type": "code",
   "execution_count": 16,
   "metadata": {},
   "outputs": [],
   "source": [
    "from mlProject.constants import *\n",
    "from mlProject.utils.common import read_yaml, create_directories"
   ]
  },
  {
   "cell_type": "code",
   "execution_count": 17,
   "metadata": {},
   "outputs": [],
   "source": [
    "class ConfigurationManager:\n",
    "    def __init__(\n",
    "        self,\n",
    "        config_filepath = CONFIG_FILE_PATH,\n",
    "        params_filepath = PARAMS_FILE_PATH,\n",
    "        schema_filepath = SCHEMA_FILE_PATH):\n",
    "\n",
    "        self.config = read_yaml(config_filepath)\n",
    "        self.params = read_yaml(params_filepath)\n",
    "        self.schema = read_yaml(schema_filepath)\n",
    "\n",
    "        create_directories([self.config.artifacts_root])\n",
    "\n",
    "\n",
    "    \n",
    "    def get_data_validation_config(self) -> DataValidationConfig:\n",
    "        config = self.config.data_validation\n",
    "        schema = self.schema.COLUMNS\n",
    "\n",
    "        create_directories([config.root_dir])\n",
    "\n",
    "        data_validation_config = DataValidationConfig(\n",
    "            root_dir=config.root_dir,\n",
    "            STATUS_FILE=config.STATUS_FILE,\n",
    "            unzip_data_dir = config.unzip_data_dir,\n",
    "            all_schema=schema,\n",
    "        )\n",
    "\n",
    "        return data_validation_config"
   ]
  },
  {
   "cell_type": "code",
   "execution_count": 18,
   "metadata": {},
   "outputs": [],
   "source": [
    "import os\n",
    "from mlProject import logger"
   ]
  },
  {
   "cell_type": "code",
   "execution_count": 19,
   "metadata": {},
   "outputs": [],
   "source": [
    "class DataValiadtion:\n",
    "    def __init__(self, config: DataValidationConfig):\n",
    "        self.config = config\n",
    "\n",
    "\n",
    "    def validate_all_columns(self)-> bool:\n",
    "        try:\n",
    "            validation_status = None\n",
    "\n",
    "            data = pd.read_excel(self.config.unzip_data_dir)\n",
    "            all_cols = list(data.columns)\n",
    "\n",
    "            all_schema = self.config.all_schema.keys()\n",
    "\n",
    "            \n",
    "            for col in all_cols:\n",
    "                if col not in all_schema:\n",
    "                    validation_status = False\n",
    "                    with open(self.config.STATUS_FILE, 'w') as f:\n",
    "                        f.write(f\"Validation status: {validation_status}\")\n",
    "                else:\n",
    "                    validation_status = True\n",
    "                    with open(self.config.STATUS_FILE, 'w') as f:\n",
    "                        f.write(f\"Validation status: {validation_status}\")\n",
    "\n",
    "            return validation_status\n",
    "        \n",
    "        except Exception as e:\n",
    "            raise e\n",
    "\n"
   ]
  },
  {
   "cell_type": "code",
   "execution_count": 20,
   "metadata": {},
   "outputs": [
    {
     "name": "stdout",
     "output_type": "stream",
     "text": [
      "[2023-11-30 04:09:45,629: INFO: common: yaml file: config\\config.yaml loaded successfully]\n",
      "[2023-11-30 04:09:45,631: INFO: common: yaml file: params.yaml loaded successfully]\n",
      "[2023-11-30 04:09:46,648: INFO: common: yaml file: schema.yaml loaded successfully]\n",
      "[2023-11-30 04:09:46,648: INFO: common: created directory at: artifacts]\n",
      "[2023-11-30 04:09:46,671: INFO: common: created directory at: artifacts/data_validation]\n"
     ]
    }
   ],
   "source": [
    "try:\n",
    "    config = ConfigurationManager()\n",
    "    data_validation_config = config.get_data_validation_config()\n",
    "    data_validation = DataValiadtion(config=data_validation_config)\n",
    "    data_validation.validate_all_columns()\n",
    "except Exception as e:\n",
    "    raise e"
   ]
  },
  {
   "cell_type": "code",
   "execution_count": null,
   "metadata": {},
   "outputs": [],
   "source": []
  }
 ],
 "metadata": {
  "kernelspec": {
   "display_name": "mlproj",
   "language": "python",
   "name": "python3"
  },
  "language_info": {
   "codemirror_mode": {
    "name": "ipython",
    "version": 3
   },
   "file_extension": ".py",
   "mimetype": "text/x-python",
   "name": "python",
   "nbconvert_exporter": "python",
   "pygments_lexer": "ipython3",
   "version": "3.8.18"
  },
  "orig_nbformat": 4
 },
 "nbformat": 4,
 "nbformat_minor": 2
}
