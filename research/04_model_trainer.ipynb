{
 "cells": [
  {
   "cell_type": "code",
   "execution_count": 1,
   "metadata": {},
   "outputs": [],
   "source": [
    "import os"
   ]
  },
  {
   "cell_type": "code",
   "execution_count": 2,
   "metadata": {},
   "outputs": [
    {
     "data": {
      "text/plain": [
       "'g:\\\\Machine_Learning_Projects\\\\iNeuron internship\\\\Flight-Fare-Prediction-End-to-End-ML-Project\\\\research'"
      ]
     },
     "execution_count": 2,
     "metadata": {},
     "output_type": "execute_result"
    }
   ],
   "source": [
    "%pwd"
   ]
  },
  {
   "cell_type": "code",
   "execution_count": 3,
   "metadata": {},
   "outputs": [],
   "source": [
    "os.chdir(\"../\")"
   ]
  },
  {
   "cell_type": "code",
   "execution_count": 4,
   "metadata": {},
   "outputs": [
    {
     "data": {
      "text/plain": [
       "'g:\\\\Machine_Learning_Projects\\\\iNeuron internship\\\\Flight-Fare-Prediction-End-to-End-ML-Project'"
      ]
     },
     "execution_count": 4,
     "metadata": {},
     "output_type": "execute_result"
    }
   ],
   "source": [
    "%pwd"
   ]
  },
  {
   "cell_type": "code",
   "execution_count": 5,
   "metadata": {},
   "outputs": [],
   "source": [
    "from dataclasses import dataclass\n",
    "from pathlib import Path\n",
    "\n",
    "\n",
    "@dataclass(frozen=True)\n",
    "class ModelTrainerConfig:\n",
    "    root_dir: Path\n",
    "    train_data_path: Path\n",
    "    test_data_path: Path\n",
    "    model_name: str\n",
    "    alpha: float\n",
    "    l1_ratio: float\n",
    "    target_column: int"
   ]
  },
  {
   "cell_type": "code",
   "execution_count": 8,
   "metadata": {},
   "outputs": [],
   "source": [
    "from mlProject.constants import *\n",
    "from mlProject.utils.common import read_yaml, create_directories"
   ]
  },
  {
   "cell_type": "code",
   "execution_count": 18,
   "metadata": {},
   "outputs": [],
   "source": [
    "class ConfigurationManager:\n",
    "    def __init__(\n",
    "        self,\n",
    "        config_filepath = CONFIG_FILE_PATH,\n",
    "        params_filepath = PARAMS_FILE_PATH,\n",
    "        schema_filepath = SCHEMA_FILE_PATH):\n",
    "\n",
    "        self.config = read_yaml(config_filepath)\n",
    "        self.params = read_yaml(params_filepath)\n",
    "        self.schema = read_yaml(schema_filepath)\n",
    "\n",
    "        create_directories([self.config.artifacts_root])\n",
    "\n",
    "\n",
    "    def get_model_trainer_config(self) -> ModelTrainerConfig:\n",
    "        config = self.config.model_trainer\n",
    "        params = self.params.ElasticNet\n",
    "        schema =  self.schema.TARGET_COLUMN\n",
    "\n",
    "        create_directories([config.root_dir])\n",
    "\n",
    "        model_trainer_config = ModelTrainerConfig(\n",
    "            root_dir=config.root_dir,\n",
    "            train_data_path = config.train_data_path,\n",
    "            test_data_path = config.test_data_path,\n",
    "            # # New Line Added\n",
    "            # trained_model_file_path =  os.path.join('artifact', 'model'),\n",
    "            # # New Line Ended\n",
    "            model_name = config.model_name,\n",
    "            alpha = params.alpha,\n",
    "            l1_ratio = params.l1_ratio,\n",
    "            target_column = schema.name\n",
    "            \n",
    "        )\n",
    "\n",
    "        return model_trainer_config"
   ]
  },
  {
   "cell_type": "code",
   "execution_count": 19,
   "metadata": {},
   "outputs": [],
   "source": [
    "import pandas as pd\n",
    "import os\n",
    "from mlProject import logger\n",
    "from sklearn.linear_model import ElasticNet\n",
    "import joblib"
   ]
  },
  {
   "cell_type": "code",
   "execution_count": null,
   "metadata": {},
   "outputs": [],
   "source": [
    "# class ModelTrainer:\n",
    "#     def __init__(self, config: ModelTrainerConfig):\n",
    "#         self.config = config\n",
    "\n",
    "    \n",
    "#     def train(self):\n",
    "#         train_data = pd.read_csv(self.config.train_data_path)\n",
    "#         test_data = pd.read_csv(self.config.test_data_path)\n",
    "\n",
    "#         X_train = train_data.drop([self.config.target_column], axis=1)\n",
    "#         X_test = test_data.drop([self.config.target_column], axis=1)\n",
    "#         y_train = train_data[[self.config.target_column]]\n",
    "#         y_test = test_data[[self.config.target_column]]\n",
    "\n",
    "#         # train_x = train_data.drop([self.config.target_column], axis=1)\n",
    "#         # test_x = test_data.drop([self.config.target_column], axis=1)\n",
    "#         # train_y = train_data[[self.config.target_column]]\n",
    "#         # test_y = test_data[[self.config.target_column]]\n",
    "\n",
    "\n",
    "#         lr = ElasticNet(alpha=self.config.alpha, l1_ratio=self.config.l1_ratio, random_state=42)\n",
    "#         lr.fit(X_train, y_train)\n",
    "#         # lr.fit(train_x, train_y)\n",
    "\n",
    "#         joblib.dump(lr, os.path.join(self.config.root_dir, self.config.model_name))\n",
    "\n"
   ]
  },
  {
   "cell_type": "code",
   "execution_count": 20,
   "metadata": {},
   "outputs": [],
   "source": [
    "import os\n",
    "import sys\n",
    "\n",
    "import pandas as pd\n",
    "import numpy as np\n",
    "\n",
    "from sklearn.linear_model import LinearRegression, Lasso, Ridge, ElasticNet\n",
    "from sklearn.ensemble import RandomForestRegressor, GradientBoostingRegressor, AdaBoostRegressor\n",
    "from sklearn.tree import DecisionTreeRegressor\n",
    "from sklearn.svm import SVR\n",
    "from sklearn.neighbors import KNeighborsRegressor\n",
    "\n",
    "from sklearn.metrics import r2_score\n",
    "\n",
    "# from ..exception import CustomException\n",
    "# from ..logger import logging\n",
    "\n",
    "# from ..utils import save_obj\n",
    "# from ..utils import evaluate_model   \n",
    "\n",
    "# from dataclasses import dataclass\n",
    "\n",
    "# @dataclass\n",
    "# class ModelTrainerConfig:\n",
    "#     trained_model_file_path =  os.path.join('artifact', 'model')\n",
    "\n",
    "\n",
    "class ModelTrainer:\n",
    "\n",
    "    def __init__(self, model_trainer_config):\n",
    "        self.model_trainer_config = model_trainer_config  \n",
    "    # def __init__(self):\n",
    "        # self.model_trainer_config = ModelTrainerConfig()    \n",
    "\n",
    "\n",
    "    def save_obj(file_path, obj):\n",
    "        try:\n",
    "\n",
    "            dir_path = os.path.dirname(file_path)\n",
    "            os.makedirs(dir_path, exist_ok=True)\n",
    "\n",
    "            with open(file_path, 'wb') as file_obj:\n",
    "                joblib.dump(obj, file_obj, compress= ('gzip'))\n",
    "\n",
    "        except Exception as e:\n",
    "            logger.info('Error occured in utils save_obj')\n",
    "            raise e\n",
    "        \n",
    "\n",
    "    def evaluate_model(X_train, y_train, X_test, y_test, models):\n",
    "\n",
    "        try:\n",
    "            report = {}\n",
    "            for i in range(len(models)):\n",
    "\n",
    "                model = list(models.values())[i]\n",
    "\n",
    "                # Train model\n",
    "                model.fit(X_train,y_train)\n",
    "\n",
    "                # Predict Testing data\n",
    "                y_test_pred = model.predict(X_test)\n",
    "\n",
    "                # Get R2 scores for train and test data\n",
    "                test_model_score = r2_score(y_test,y_test_pred)\n",
    "\n",
    "                report[list(models.keys())[i]] =  test_model_score\n",
    "\n",
    "            return report\n",
    "\n",
    "        except Exception as e:\n",
    "            logger.info('Exception occured during model training')\n",
    "            raise e    \n",
    "\n",
    "\n",
    "\n",
    "    def initiate_model_training(self, X_train, X_test, y_train, y_test):\n",
    "        try:\n",
    "            logger.info('Splitting ')\n",
    "\n",
    "            models={\n",
    "            'LinearRegression':LinearRegression(),\n",
    "            'Lasso':Lasso(),\n",
    "            'Ridge':Ridge(),\n",
    "            'Elasticnet':ElasticNet(),\n",
    "            'RandomForestRegressor': RandomForestRegressor(),\n",
    "            'GradientBoostRegressor()' : GradientBoostingRegressor(),\n",
    "            \"AdaBoost\" : AdaBoostRegressor(),\n",
    "            'DecisionTreeRegressor' : DecisionTreeRegressor(),\n",
    "            \"SupportVectorRegressor\" : SVR(),\n",
    "            \"KNN\" : KNeighborsRegressor()\n",
    "            }\n",
    "\n",
    "            model_report:dict = ModelTrainer.evaluate_model(X_train,y_train, X_test, y_test, models)\n",
    "            print(model_report)\n",
    "            print(\"\\n====================================================================================\")\n",
    "            logger.info(f'Model Report : {model_report}')\n",
    "\n",
    "            # to get best model score from dictionary\n",
    "            best_model_score = max(sorted(model_report.values()))\n",
    "\n",
    "            best_model_name = list(model_report.keys())[\n",
    "                list(model_report.values()).index(best_model_score)\n",
    "            ]\n",
    "\n",
    "            best_model = models[best_model_name]\n",
    "\n",
    "            print(f\"Best Model Found, Model Name :{best_model_name}, R2-score: {best_model_score}\")\n",
    "            print(\"\\n====================================================================================\")\n",
    "            logger.info(f\"Best Model Found, Model name: {best_model_name}, R2-score: {best_model_score}\")\n",
    "            logger.info(f\"{best_model.feature_names_in_}\")\n",
    "            \n",
    "            ModelTrainer.save_obj(\n",
    "            file_path = self.model_trainer_config.trained_model_file_path,\n",
    "            obj = best_model\n",
    "            )\n",
    "\n",
    "        except Exception as e:\n",
    "            logger.info('Exception occured at model trianing')\n",
    "            raise e\n",
    "        "
   ]
  },
  {
   "cell_type": "code",
   "execution_count": 25,
   "metadata": {},
   "outputs": [
    {
     "name": "stdout",
     "output_type": "stream",
     "text": [
      "[2023-12-16 21:58:22,484: INFO: common: yaml file: config\\config.yaml loaded successfully]\n",
      "[2023-12-16 21:58:22,493: INFO: common: yaml file: params.yaml loaded successfully]\n",
      "[2023-12-16 21:58:22,493: INFO: common: yaml file: schema.yaml loaded successfully]\n",
      "[2023-12-16 21:58:22,493: INFO: common: created directory at: artifacts]\n",
      "[2023-12-16 21:58:22,493: INFO: common: created directory at: artifacts/model_trainer]\n"
     ]
    },
    {
     "ename": "TypeError",
     "evalue": "initiate_model_training() missing 4 required positional arguments: 'X_train', 'X_test', 'y_train', and 'y_test'",
     "output_type": "error",
     "traceback": [
      "\u001b[1;31m---------------------------------------------------------------------------\u001b[0m",
      "\u001b[1;31mTypeError\u001b[0m                                 Traceback (most recent call last)",
      "Cell \u001b[1;32mIn[25], line 8\u001b[0m\n\u001b[0;32m      6\u001b[0m     model_trainer_config\u001b[38;5;241m.\u001b[39minitiate_model_training()\n\u001b[0;32m      7\u001b[0m \u001b[38;5;28;01mexcept\u001b[39;00m \u001b[38;5;167;01mException\u001b[39;00m \u001b[38;5;28;01mas\u001b[39;00m e:\n\u001b[1;32m----> 8\u001b[0m     \u001b[38;5;28;01mraise\u001b[39;00m e\n",
      "Cell \u001b[1;32mIn[25], line 6\u001b[0m\n\u001b[0;32m      4\u001b[0m     model_trainer_config \u001b[38;5;241m=\u001b[39m ModelTrainer(model_trainer_config)\n\u001b[0;32m      5\u001b[0m     \u001b[38;5;66;03m# model_trainer_config.train()\u001b[39;00m\n\u001b[1;32m----> 6\u001b[0m     \u001b[43mmodel_trainer_config\u001b[49m\u001b[38;5;241;43m.\u001b[39;49m\u001b[43minitiate_model_training\u001b[49m\u001b[43m(\u001b[49m\u001b[43m)\u001b[49m\n\u001b[0;32m      7\u001b[0m \u001b[38;5;28;01mexcept\u001b[39;00m \u001b[38;5;167;01mException\u001b[39;00m \u001b[38;5;28;01mas\u001b[39;00m e:\n\u001b[0;32m      8\u001b[0m     \u001b[38;5;28;01mraise\u001b[39;00m e\n",
      "\u001b[1;31mTypeError\u001b[0m: initiate_model_training() missing 4 required positional arguments: 'X_train', 'X_test', 'y_train', and 'y_test'"
     ]
    }
   ],
   "source": [
    "try:\n",
    "    config = ConfigurationManager()\n",
    "    model_trainer_config = config.get_model_trainer_config()\n",
    "    model_trainer_config = ModelTrainer(model_trainer_config)\n",
    "    # model_trainer_config.train()\n",
    "    model_trainer_config.initiate_model_training()\n",
    "except Exception as e:\n",
    "    raise e"
   ]
  },
  {
   "cell_type": "code",
   "execution_count": null,
   "metadata": {},
   "outputs": [],
   "source": []
  }
 ],
 "metadata": {
  "kernelspec": {
   "display_name": "mlproj",
   "language": "python",
   "name": "python3"
  },
  "language_info": {
   "codemirror_mode": {
    "name": "ipython",
    "version": 3
   },
   "file_extension": ".py",
   "mimetype": "text/x-python",
   "name": "python",
   "nbconvert_exporter": "python",
   "pygments_lexer": "ipython3",
   "version": "3.8.18"
  },
  "orig_nbformat": 4
 },
 "nbformat": 4,
 "nbformat_minor": 2
}
