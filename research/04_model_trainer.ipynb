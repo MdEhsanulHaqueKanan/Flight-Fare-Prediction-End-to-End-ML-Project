{
 "cells": [
  {
   "cell_type": "code",
   "execution_count": 2,
   "metadata": {},
   "outputs": [],
   "source": [
    "import os"
   ]
  },
  {
   "cell_type": "code",
   "execution_count": 3,
   "metadata": {},
   "outputs": [
    {
     "data": {
      "text/plain": [
       "'g:\\\\Machine_Learning_Projects\\\\iNeuron internship\\\\Flight-Fare-Prediction-End-to-End-ML-Project\\\\research'"
      ]
     },
     "execution_count": 3,
     "metadata": {},
     "output_type": "execute_result"
    }
   ],
   "source": [
    "%pwd"
   ]
  },
  {
   "cell_type": "code",
   "execution_count": 4,
   "metadata": {},
   "outputs": [],
   "source": [
    "os.chdir(\"../\")"
   ]
  },
  {
   "cell_type": "code",
   "execution_count": 5,
   "metadata": {},
   "outputs": [
    {
     "data": {
      "text/plain": [
       "'g:\\\\Machine_Learning_Projects\\\\iNeuron internship\\\\Flight-Fare-Prediction-End-to-End-ML-Project'"
      ]
     },
     "execution_count": 5,
     "metadata": {},
     "output_type": "execute_result"
    }
   ],
   "source": [
    "%pwd"
   ]
  },
  {
   "cell_type": "code",
   "execution_count": 6,
   "metadata": {},
   "outputs": [],
   "source": [
    "from dataclasses import dataclass\n",
    "from pathlib import Path\n",
    "\n",
    "\n",
    "@dataclass(frozen=True)\n",
    "class ModelTrainerConfig:\n",
    "    root_dir: Path\n",
    "    train_data_path: Path\n",
    "    test_data_path: Path\n",
    "    model_name: str\n",
    "    alpha: float\n",
    "    l1_ratio: float\n",
    "    target_column: int"
   ]
  },
  {
   "cell_type": "code",
   "execution_count": 7,
   "metadata": {},
   "outputs": [],
   "source": [
    "from mlProject.constants import *\n",
    "from mlProject.utils.common import read_yaml, create_directories"
   ]
  },
  {
   "cell_type": "code",
   "execution_count": 8,
   "metadata": {},
   "outputs": [],
   "source": [
    "class ConfigurationManager:\n",
    "    def __init__(\n",
    "        self,\n",
    "        config_filepath = CONFIG_FILE_PATH,\n",
    "        params_filepath = PARAMS_FILE_PATH,\n",
    "        schema_filepath = SCHEMA_FILE_PATH):\n",
    "\n",
    "        self.config = read_yaml(config_filepath)\n",
    "        self.params = read_yaml(params_filepath)\n",
    "        self.schema = read_yaml(schema_filepath)\n",
    "\n",
    "        create_directories([self.config.artifacts_root])\n",
    "\n",
    "\n",
    "    def get_model_trainer_config(self) -> ModelTrainerConfig:\n",
    "        config = self.config.model_trainer\n",
    "        params = self.params.ElasticNet\n",
    "        schema =  self.schema.TARGET_COLUMN\n",
    "\n",
    "        create_directories([config.root_dir])\n",
    "\n",
    "        model_trainer_config = ModelTrainerConfig(\n",
    "            root_dir=config.root_dir,\n",
    "            train_data_path = config.train_data_path,\n",
    "            test_data_path = config.test_data_path,\n",
    "            # New Line Added\n",
    "            trained_model_file_path =  os.path.join('artifact', 'model'),\n",
    "            # New Line Ended\n",
    "            model_name = config.model_name,\n",
    "            alpha = params.alpha,\n",
    "            l1_ratio = params.l1_ratio,\n",
    "            target_column = schema.name\n",
    "            \n",
    "        )\n",
    "\n",
    "        return model_trainer_config"
   ]
  },
  {
   "cell_type": "code",
   "execution_count": 9,
   "metadata": {},
   "outputs": [],
   "source": [
    "import pandas as pd\n",
    "import os\n",
    "from mlProject import logger\n",
    "from sklearn.linear_model import ElasticNet\n",
    "import joblib"
   ]
  },
  {
   "cell_type": "code",
   "execution_count": null,
   "metadata": {},
   "outputs": [],
   "source": [
    "# class ModelTrainer:\n",
    "#     def __init__(self, config: ModelTrainerConfig):\n",
    "#         self.config = config\n",
    "\n",
    "    \n",
    "#     def train(self):\n",
    "#         train_data = pd.read_csv(self.config.train_data_path)\n",
    "#         test_data = pd.read_csv(self.config.test_data_path)\n",
    "\n",
    "#         X_train = train_data.drop([self.config.target_column], axis=1)\n",
    "#         X_test = test_data.drop([self.config.target_column], axis=1)\n",
    "#         y_train = train_data[[self.config.target_column]]\n",
    "#         y_test = test_data[[self.config.target_column]]\n",
    "\n",
    "#         # train_x = train_data.drop([self.config.target_column], axis=1)\n",
    "#         # test_x = test_data.drop([self.config.target_column], axis=1)\n",
    "#         # train_y = train_data[[self.config.target_column]]\n",
    "#         # test_y = test_data[[self.config.target_column]]\n",
    "\n",
    "\n",
    "#         lr = ElasticNet(alpha=self.config.alpha, l1_ratio=self.config.l1_ratio, random_state=42)\n",
    "#         lr.fit(X_train, y_train)\n",
    "#         # lr.fit(train_x, train_y)\n",
    "\n",
    "#         joblib.dump(lr, os.path.join(self.config.root_dir, self.config.model_name))\n",
    "\n"
   ]
  },
  {
   "cell_type": "code",
   "execution_count": 10,
   "metadata": {},
   "outputs": [],
   "source": [
    "import os\n",
    "import sys\n",
    "\n",
    "import pandas as pd\n",
    "import numpy as np\n",
    "\n",
    "from sklearn.linear_model import LinearRegression, Lasso, Ridge, ElasticNet\n",
    "from sklearn.ensemble import RandomForestRegressor, GradientBoostingRegressor, AdaBoostRegressor\n",
    "from sklearn.tree import DecisionTreeRegressor\n",
    "from sklearn.svm import SVR\n",
    "from sklearn.neighbors import KNeighborsRegressor\n",
    "\n",
    "from sklearn.metrics import r2_score\n",
    "\n",
    "# from ..exception import CustomException\n",
    "# from ..logger import logging\n",
    "\n",
    "# from ..utils import save_obj\n",
    "# from ..utils import evaluate_model   \n",
    "\n",
    "# from dataclasses import dataclass\n",
    "\n",
    "# @dataclass\n",
    "# class ModelTrainerConfig:\n",
    "#     trained_model_file_path =  os.path.join('artifact', 'model')\n",
    "\n",
    "\n",
    "class ModelTrainer:\n",
    "\n",
    "    def __init__(self):\n",
    "        self.model_trainer_config = ModelTrainerConfig()    \n",
    "\n",
    "\n",
    "    def save_obj(file_path, obj):\n",
    "        try:\n",
    "\n",
    "            dir_path = os.path.dirname(file_path)\n",
    "            os.makedirs(dir_path, exist_ok=True)\n",
    "\n",
    "            with open(file_path, 'wb') as file_obj:\n",
    "                joblib.dump(obj, file_obj, compress= ('gzip'))\n",
    "\n",
    "        except Exception as e:\n",
    "            logger.info('Error occured in utils save_obj')\n",
    "            raise e\n",
    "        \n",
    "\n",
    "    def evaluate_model(X_train, y_train, X_test, y_test, models):\n",
    "\n",
    "        try:\n",
    "            report = {}\n",
    "            for i in range(len(models)):\n",
    "\n",
    "                model = list(models.values())[i]\n",
    "\n",
    "                # Train model\n",
    "                model.fit(X_train,y_train)\n",
    "\n",
    "                # Predict Testing data\n",
    "                y_test_pred = model.predict(X_test)\n",
    "\n",
    "                # Get R2 scores for train and test data\n",
    "                test_model_score = r2_score(y_test,y_test_pred)\n",
    "\n",
    "                report[list(models.keys())[i]] =  test_model_score\n",
    "\n",
    "            return report\n",
    "\n",
    "        except Exception as e:\n",
    "            logger.info('Exception occured during model training')\n",
    "            raise e    \n",
    "\n",
    "\n",
    "\n",
    "    def initiate_model_training(self, X_train, X_test, y_train, y_test):\n",
    "        try:\n",
    "            logger.info('Splitting ')\n",
    "\n",
    "            models={\n",
    "            'LinearRegression':LinearRegression(),\n",
    "            'Lasso':Lasso(),\n",
    "            'Ridge':Ridge(),\n",
    "            'Elasticnet':ElasticNet(),\n",
    "            'RandomForestRegressor': RandomForestRegressor(),\n",
    "            'GradientBoostRegressor()' : GradientBoostingRegressor(),\n",
    "            \"AdaBoost\" : AdaBoostRegressor(),\n",
    "            'DecisionTreeRegressor' : DecisionTreeRegressor(),\n",
    "            \"SupportVectorRegressor\" : SVR(),\n",
    "            \"KNN\" : KNeighborsRegressor()\n",
    "            }\n",
    "\n",
    "            model_report:dict = ModelTrainer.evaluate_model(X_train,y_train, X_test, y_test, models)\n",
    "            print(model_report)\n",
    "            print(\"\\n====================================================================================\")\n",
    "            logger.info(f'Model Report : {model_report}')\n",
    "\n",
    "            # to get best model score from dictionary\n",
    "            best_model_score = max(sorted(model_report.values()))\n",
    "\n",
    "            best_model_name = list(model_report.keys())[\n",
    "                list(model_report.values()).index(best_model_score)\n",
    "            ]\n",
    "\n",
    "            best_model = models[best_model_name]\n",
    "\n",
    "            print(f\"Best Model Found, Model Name :{best_model_name}, R2-score: {best_model_score}\")\n",
    "            print(\"\\n====================================================================================\")\n",
    "            logger.info(f\"Best Model Found, Model name: {best_model_name}, R2-score: {best_model_score}\")\n",
    "            logger.info(f\"{best_model.feature_names_in_}\")\n",
    "            \n",
    "            ModelTrainer.save_obj(\n",
    "            file_path = self.model_trainer_config.trained_model_file_path,\n",
    "            obj = best_model\n",
    "            )\n",
    "\n",
    "        except Exception as e:\n",
    "            logger.info('Exception occured at model trianing')\n",
    "            raise e\n",
    "        "
   ]
  },
  {
   "cell_type": "code",
   "execution_count": 11,
   "metadata": {},
   "outputs": [
    {
     "name": "stdout",
     "output_type": "stream",
     "text": [
      "[2023-12-05 08:05:47,529: INFO: common: yaml file: config\\config.yaml loaded successfully]\n",
      "[2023-12-05 08:05:47,544: INFO: common: yaml file: params.yaml loaded successfully]\n",
      "[2023-12-05 08:05:47,571: INFO: common: yaml file: schema.yaml loaded successfully]\n",
      "[2023-12-05 08:05:47,573: INFO: common: created directory at: artifacts]\n",
      "[2023-12-05 08:05:47,578: INFO: common: created directory at: artifacts/model_trainer]\n"
     ]
    },
    {
     "ename": "TypeError",
     "evalue": "__init__() got an unexpected keyword argument 'trained_model_file_path'",
     "output_type": "error",
     "traceback": [
      "\u001b[1;31m---------------------------------------------------------------------------\u001b[0m",
      "\u001b[1;31mTypeError\u001b[0m                                 Traceback (most recent call last)",
      "\u001b[1;32mg:\\Machine_Learning_Projects\\iNeuron internship\\Flight-Fare-Prediction-End-to-End-ML-Project\\research\\04_model_trainer.ipynb Cell 11\u001b[0m line \u001b[0;36m7\n\u001b[0;32m      <a href='vscode-notebook-cell:/g%3A/Machine_Learning_Projects/iNeuron%20internship/Flight-Fare-Prediction-End-to-End-ML-Project/research/04_model_trainer.ipynb#X12sZmlsZQ%3D%3D?line=4'>5</a>\u001b[0m     model_trainer_config\u001b[39m.\u001b[39mtrain()\n\u001b[0;32m      <a href='vscode-notebook-cell:/g%3A/Machine_Learning_Projects/iNeuron%20internship/Flight-Fare-Prediction-End-to-End-ML-Project/research/04_model_trainer.ipynb#X12sZmlsZQ%3D%3D?line=5'>6</a>\u001b[0m \u001b[39mexcept\u001b[39;00m \u001b[39mException\u001b[39;00m \u001b[39mas\u001b[39;00m e:\n\u001b[1;32m----> <a href='vscode-notebook-cell:/g%3A/Machine_Learning_Projects/iNeuron%20internship/Flight-Fare-Prediction-End-to-End-ML-Project/research/04_model_trainer.ipynb#X12sZmlsZQ%3D%3D?line=6'>7</a>\u001b[0m     \u001b[39mraise\u001b[39;00m e\n",
      "\u001b[1;32mg:\\Machine_Learning_Projects\\iNeuron internship\\Flight-Fare-Prediction-End-to-End-ML-Project\\research\\04_model_trainer.ipynb Cell 11\u001b[0m line \u001b[0;36m3\n\u001b[0;32m      <a href='vscode-notebook-cell:/g%3A/Machine_Learning_Projects/iNeuron%20internship/Flight-Fare-Prediction-End-to-End-ML-Project/research/04_model_trainer.ipynb#X12sZmlsZQ%3D%3D?line=0'>1</a>\u001b[0m \u001b[39mtry\u001b[39;00m:\n\u001b[0;32m      <a href='vscode-notebook-cell:/g%3A/Machine_Learning_Projects/iNeuron%20internship/Flight-Fare-Prediction-End-to-End-ML-Project/research/04_model_trainer.ipynb#X12sZmlsZQ%3D%3D?line=1'>2</a>\u001b[0m     config \u001b[39m=\u001b[39m ConfigurationManager()\n\u001b[1;32m----> <a href='vscode-notebook-cell:/g%3A/Machine_Learning_Projects/iNeuron%20internship/Flight-Fare-Prediction-End-to-End-ML-Project/research/04_model_trainer.ipynb#X12sZmlsZQ%3D%3D?line=2'>3</a>\u001b[0m     model_trainer_config \u001b[39m=\u001b[39m config\u001b[39m.\u001b[39;49mget_model_trainer_config()\n\u001b[0;32m      <a href='vscode-notebook-cell:/g%3A/Machine_Learning_Projects/iNeuron%20internship/Flight-Fare-Prediction-End-to-End-ML-Project/research/04_model_trainer.ipynb#X12sZmlsZQ%3D%3D?line=3'>4</a>\u001b[0m     model_trainer_config \u001b[39m=\u001b[39m ModelTrainer(config\u001b[39m=\u001b[39mmodel_trainer_config)\n\u001b[0;32m      <a href='vscode-notebook-cell:/g%3A/Machine_Learning_Projects/iNeuron%20internship/Flight-Fare-Prediction-End-to-End-ML-Project/research/04_model_trainer.ipynb#X12sZmlsZQ%3D%3D?line=4'>5</a>\u001b[0m     model_trainer_config\u001b[39m.\u001b[39mtrain()\n",
      "\u001b[1;32mg:\\Machine_Learning_Projects\\iNeuron internship\\Flight-Fare-Prediction-End-to-End-ML-Project\\research\\04_model_trainer.ipynb Cell 11\u001b[0m line \u001b[0;36m2\n\u001b[0;32m     <a href='vscode-notebook-cell:/g%3A/Machine_Learning_Projects/iNeuron%20internship/Flight-Fare-Prediction-End-to-End-ML-Project/research/04_model_trainer.ipynb#X12sZmlsZQ%3D%3D?line=17'>18</a>\u001b[0m schema \u001b[39m=\u001b[39m  \u001b[39mself\u001b[39m\u001b[39m.\u001b[39mschema\u001b[39m.\u001b[39mTARGET_COLUMN\n\u001b[0;32m     <a href='vscode-notebook-cell:/g%3A/Machine_Learning_Projects/iNeuron%20internship/Flight-Fare-Prediction-End-to-End-ML-Project/research/04_model_trainer.ipynb#X12sZmlsZQ%3D%3D?line=19'>20</a>\u001b[0m create_directories([config\u001b[39m.\u001b[39mroot_dir])\n\u001b[1;32m---> <a href='vscode-notebook-cell:/g%3A/Machine_Learning_Projects/iNeuron%20internship/Flight-Fare-Prediction-End-to-End-ML-Project/research/04_model_trainer.ipynb#X12sZmlsZQ%3D%3D?line=21'>22</a>\u001b[0m model_trainer_config \u001b[39m=\u001b[39m ModelTrainerConfig(\n\u001b[0;32m     <a href='vscode-notebook-cell:/g%3A/Machine_Learning_Projects/iNeuron%20internship/Flight-Fare-Prediction-End-to-End-ML-Project/research/04_model_trainer.ipynb#X12sZmlsZQ%3D%3D?line=22'>23</a>\u001b[0m     root_dir\u001b[39m=\u001b[39;49mconfig\u001b[39m.\u001b[39;49mroot_dir,\n\u001b[0;32m     <a href='vscode-notebook-cell:/g%3A/Machine_Learning_Projects/iNeuron%20internship/Flight-Fare-Prediction-End-to-End-ML-Project/research/04_model_trainer.ipynb#X12sZmlsZQ%3D%3D?line=23'>24</a>\u001b[0m     train_data_path \u001b[39m=\u001b[39;49m config\u001b[39m.\u001b[39;49mtrain_data_path,\n\u001b[0;32m     <a href='vscode-notebook-cell:/g%3A/Machine_Learning_Projects/iNeuron%20internship/Flight-Fare-Prediction-End-to-End-ML-Project/research/04_model_trainer.ipynb#X12sZmlsZQ%3D%3D?line=24'>25</a>\u001b[0m     test_data_path \u001b[39m=\u001b[39;49m config\u001b[39m.\u001b[39;49mtest_data_path,\n\u001b[0;32m     <a href='vscode-notebook-cell:/g%3A/Machine_Learning_Projects/iNeuron%20internship/Flight-Fare-Prediction-End-to-End-ML-Project/research/04_model_trainer.ipynb#X12sZmlsZQ%3D%3D?line=25'>26</a>\u001b[0m     \u001b[39m# New Line Added\u001b[39;49;00m\n\u001b[0;32m     <a href='vscode-notebook-cell:/g%3A/Machine_Learning_Projects/iNeuron%20internship/Flight-Fare-Prediction-End-to-End-ML-Project/research/04_model_trainer.ipynb#X12sZmlsZQ%3D%3D?line=26'>27</a>\u001b[0m     trained_model_file_path \u001b[39m=\u001b[39;49m  os\u001b[39m.\u001b[39;49mpath\u001b[39m.\u001b[39;49mjoin(\u001b[39m'\u001b[39;49m\u001b[39martifact\u001b[39;49m\u001b[39m'\u001b[39;49m, \u001b[39m'\u001b[39;49m\u001b[39mmodel\u001b[39;49m\u001b[39m'\u001b[39;49m),\n\u001b[0;32m     <a href='vscode-notebook-cell:/g%3A/Machine_Learning_Projects/iNeuron%20internship/Flight-Fare-Prediction-End-to-End-ML-Project/research/04_model_trainer.ipynb#X12sZmlsZQ%3D%3D?line=27'>28</a>\u001b[0m     \u001b[39m# New Line Ended\u001b[39;49;00m\n\u001b[0;32m     <a href='vscode-notebook-cell:/g%3A/Machine_Learning_Projects/iNeuron%20internship/Flight-Fare-Prediction-End-to-End-ML-Project/research/04_model_trainer.ipynb#X12sZmlsZQ%3D%3D?line=28'>29</a>\u001b[0m     model_name \u001b[39m=\u001b[39;49m config\u001b[39m.\u001b[39;49mmodel_name,\n\u001b[0;32m     <a href='vscode-notebook-cell:/g%3A/Machine_Learning_Projects/iNeuron%20internship/Flight-Fare-Prediction-End-to-End-ML-Project/research/04_model_trainer.ipynb#X12sZmlsZQ%3D%3D?line=29'>30</a>\u001b[0m     alpha \u001b[39m=\u001b[39;49m params\u001b[39m.\u001b[39;49malpha,\n\u001b[0;32m     <a href='vscode-notebook-cell:/g%3A/Machine_Learning_Projects/iNeuron%20internship/Flight-Fare-Prediction-End-to-End-ML-Project/research/04_model_trainer.ipynb#X12sZmlsZQ%3D%3D?line=30'>31</a>\u001b[0m     l1_ratio \u001b[39m=\u001b[39;49m params\u001b[39m.\u001b[39;49ml1_ratio,\n\u001b[0;32m     <a href='vscode-notebook-cell:/g%3A/Machine_Learning_Projects/iNeuron%20internship/Flight-Fare-Prediction-End-to-End-ML-Project/research/04_model_trainer.ipynb#X12sZmlsZQ%3D%3D?line=31'>32</a>\u001b[0m     target_column \u001b[39m=\u001b[39;49m schema\u001b[39m.\u001b[39;49mname\n\u001b[0;32m     <a href='vscode-notebook-cell:/g%3A/Machine_Learning_Projects/iNeuron%20internship/Flight-Fare-Prediction-End-to-End-ML-Project/research/04_model_trainer.ipynb#X12sZmlsZQ%3D%3D?line=32'>33</a>\u001b[0m     \n\u001b[0;32m     <a href='vscode-notebook-cell:/g%3A/Machine_Learning_Projects/iNeuron%20internship/Flight-Fare-Prediction-End-to-End-ML-Project/research/04_model_trainer.ipynb#X12sZmlsZQ%3D%3D?line=33'>34</a>\u001b[0m )\n\u001b[0;32m     <a href='vscode-notebook-cell:/g%3A/Machine_Learning_Projects/iNeuron%20internship/Flight-Fare-Prediction-End-to-End-ML-Project/research/04_model_trainer.ipynb#X12sZmlsZQ%3D%3D?line=35'>36</a>\u001b[0m \u001b[39mreturn\u001b[39;00m model_trainer_config\n",
      "\u001b[1;31mTypeError\u001b[0m: __init__() got an unexpected keyword argument 'trained_model_file_path'"
     ]
    }
   ],
   "source": [
    "try:\n",
    "    config = ConfigurationManager()\n",
    "    model_trainer_config = config.get_model_trainer_config()\n",
    "    model_trainer_config = ModelTrainer(config=model_trainer_config)\n",
    "    model_trainer_config.train()\n",
    "except Exception as e:\n",
    "    raise e"
   ]
  },
  {
   "cell_type": "code",
   "execution_count": null,
   "metadata": {},
   "outputs": [],
   "source": []
  }
 ],
 "metadata": {
  "kernelspec": {
   "display_name": "mlproj",
   "language": "python",
   "name": "python3"
  },
  "language_info": {
   "codemirror_mode": {
    "name": "ipython",
    "version": 3
   },
   "file_extension": ".py",
   "mimetype": "text/x-python",
   "name": "python",
   "nbconvert_exporter": "python",
   "pygments_lexer": "ipython3",
   "version": "3.8.18"
  },
  "orig_nbformat": 4
 },
 "nbformat": 4,
 "nbformat_minor": 2
}
